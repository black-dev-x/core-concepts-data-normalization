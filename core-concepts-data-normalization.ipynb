{
 "cells": [
  {
   "cell_type": "code",
   "execution_count": 2,
   "id": "2a16a9f9-3457-42d1-bf80-c76c6777e537",
   "metadata": {},
   "outputs": [],
   "source": [
    "from sklearn import preprocessing"
   ]
  },
  {
   "cell_type": "code",
   "execution_count": 4,
   "id": "40433bfe-7d6d-4c92-8b07-ff79fbb8a505",
   "metadata": {},
   "outputs": [],
   "source": [
    "import numpy as np"
   ]
  },
  {
   "cell_type": "code",
   "execution_count": 12,
   "id": "2639e4f6-c375-49e4-8198-c05b359c98ce",
   "metadata": {},
   "outputs": [
    {
     "data": {
      "text/plain": [
       "array([[ 6918, 34691,  8584, 33379, 40956]])"
      ]
     },
     "execution_count": 12,
     "metadata": {},
     "output_type": "execute_result"
    }
   ],
   "source": [
    "original_data = np.random.randint(0, 50000, size=(1,5))\n",
    "original_data"
   ]
  },
  {
   "cell_type": "code",
   "execution_count": 14,
   "id": "63386faf-2858-4e4d-a54e-09d1ff195d7d",
   "metadata": {},
   "outputs": [],
   "source": [
    "normalized = preprocessing.normalize(original_data)"
   ]
  },
  {
   "cell_type": "code",
   "execution_count": 16,
   "id": "b76a5598-e72b-4c16-b5b5-76bfdc7a2fbc",
   "metadata": {},
   "outputs": [
    {
     "data": {
      "text/plain": [
       "array([[0.10782347, 0.54069151, 0.13378963, 0.52024277, 0.63833736]])"
      ]
     },
     "execution_count": 16,
     "metadata": {},
     "output_type": "execute_result"
    }
   ],
   "source": [
    "normalized"
   ]
  },
  {
   "cell_type": "code",
   "execution_count": 22,
   "id": "419c57f5-b394-4866-9082-812afd4d7bbe",
   "metadata": {},
   "outputs": [],
   "source": [
    "xnormalized = np.round(normalized, 2)"
   ]
  },
  {
   "cell_type": "code",
   "execution_count": 24,
   "id": "13e86d97-f203-4593-8ac6-3998a242afb5",
   "metadata": {},
   "outputs": [
    {
     "data": {
      "text/plain": [
       "array([[0.11, 0.54, 0.13, 0.52, 0.64]])"
      ]
     },
     "execution_count": 24,
     "metadata": {},
     "output_type": "execute_result"
    }
   ],
   "source": [
    "xnormalized"
   ]
  },
  {
   "cell_type": "code",
   "execution_count": null,
   "id": "c49e84f7-1ecd-416a-ba75-7c7c9bc864a2",
   "metadata": {},
   "outputs": [],
   "source": []
  }
 ],
 "metadata": {
  "kernelspec": {
   "display_name": "Python 3 (ipykernel)",
   "language": "python",
   "name": "python3"
  },
  "language_info": {
   "codemirror_mode": {
    "name": "ipython",
    "version": 3
   },
   "file_extension": ".py",
   "mimetype": "text/x-python",
   "name": "python",
   "nbconvert_exporter": "python",
   "pygments_lexer": "ipython3",
   "version": "3.11.7"
  }
 },
 "nbformat": 4,
 "nbformat_minor": 5
}
